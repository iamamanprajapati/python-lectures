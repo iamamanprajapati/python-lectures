{
 "cells": [
  {
   "cell_type": "code",
   "execution_count": 1,
   "id": "electrical-illness",
   "metadata": {},
   "outputs": [],
   "source": [
    "import joblib"
   ]
  },
  {
   "cell_type": "code",
   "execution_count": 2,
   "id": "vocational-investigation",
   "metadata": {},
   "outputs": [],
   "source": [
    "model = joblib.load('smp.pkl')"
   ]
  },
  {
   "cell_type": "code",
   "execution_count": 3,
   "id": "duplicate-muscle",
   "metadata": {},
   "outputs": [
    {
     "name": "stdin",
     "output_type": "stream",
     "text": [
      "Enter study hours :  4\n"
     ]
    },
    {
     "name": "stdout",
     "output_type": "stream",
     "text": [
      "predicted marks :  66.19\n"
     ]
    }
   ],
   "source": [
    "n = int(input('Enter study hours : '))\n",
    "print(\"predicted marks : \", model.predict([[n]])[0][0].round(2))"
   ]
  },
  {
   "cell_type": "code",
   "execution_count": null,
   "id": "consecutive-birthday",
   "metadata": {},
   "outputs": [],
   "source": []
  }
 ],
 "metadata": {
  "kernelspec": {
   "display_name": "Python 3",
   "language": "python",
   "name": "python3"
  },
  "language_info": {
   "codemirror_mode": {
    "name": "ipython",
    "version": 3
   },
   "file_extension": ".py",
   "mimetype": "text/x-python",
   "name": "python",
   "nbconvert_exporter": "python",
   "pygments_lexer": "ipython3",
   "version": "3.6.9"
  }
 },
 "nbformat": 4,
 "nbformat_minor": 5
}
