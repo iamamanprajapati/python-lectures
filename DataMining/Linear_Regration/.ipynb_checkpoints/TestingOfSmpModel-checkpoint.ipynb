{
 "cells": [
  {
   "cell_type": "code",
   "execution_count": 1,
   "id": "adaptive-genre",
   "metadata": {},
   "outputs": [],
   "source": [
    "import joblib"
   ]
  },
  {
   "cell_type": "code",
   "execution_count": 2,
   "id": "continuing-summary",
   "metadata": {},
   "outputs": [],
   "source": [
    "model = joblib.load('smp.pkl')"
   ]
  },
  {
   "cell_type": "code",
   "execution_count": 3,
   "id": "invisible-enemy",
   "metadata": {},
   "outputs": [
    {
     "name": "stdin",
     "output_type": "stream",
     "text": [
      "Enter study hours :  5\n"
     ]
    },
    {
     "name": "stdout",
     "output_type": "stream",
     "text": [
      "predicted marks :  70.11\n"
     ]
    }
   ],
   "source": [
    "n = int(input('Enter study hours : '))\n",
    "print(\"predicted marks : \", model.predict([[n]])[0][0].round(2))"
   ]
  }
 ],
 "metadata": {
  "kernelspec": {
   "display_name": "Python 3",
   "language": "python",
   "name": "python3"
  },
  "language_info": {
   "codemirror_mode": {
    "name": "ipython",
    "version": 3
   },
   "file_extension": ".py",
   "mimetype": "text/x-python",
   "name": "python",
   "nbconvert_exporter": "python",
   "pygments_lexer": "ipython3",
   "version": "3.6.9"
  }
 },
 "nbformat": 4,
 "nbformat_minor": 5
}
