{
 "cells": [
  {
   "cell_type": "code",
   "execution_count": 1,
   "id": "acknowledged-picture",
   "metadata": {},
   "outputs": [
    {
     "name": "stdout",
     "output_type": "stream",
     "text": [
      "Connection is established\n"
     ]
    }
   ],
   "source": [
    "# Establish connection with database\n",
    "import mysql.connector\n",
    "mydb = mysql.connector.connect(host='localhost',user='root',database='iet_db',password='')\n",
    "cursor = mydb.cursor()\n",
    "print('Connection is established')"
   ]
  },
  {
   "cell_type": "code",
   "execution_count": 2,
   "id": "planned-waterproof",
   "metadata": {},
   "outputs": [],
   "source": [
    "empid = int(input('Enter Enmployee Id : '))\n",
    "empname = input('Enter Employee Name : ')\n",
    "department = input('Enter dep name : ')\n",
    "salary = int(input('Enter Salary : '))\n",
    "\n",
    "sql = \"insert into emp_info values('\"+str(empid)+\"','\"+empname+\"','\"+department+\"','\"+str(salary)+\"')\"\n",
    "cursor.execute(sql)\n",
    "mydb.commit()\n",
    "print('record is saved successfully')"
   ]
  },
  {
   "cell_type": "code",
   "execution_count": 3,
   "id": "alien-sharing",
   "metadata": {},
   "outputs": [],
   "source": [
    "# # write python code to perform delete operation\n",
    "empid = int(input('Enter employee id for delete employee : '))\n",
    "sql = \"delete from emp_info where empid='\"+str(empid)+\"'\"\n",
    "cursor.execute(sql)\n",
    "mydb.commit()\n",
    "print('Record is deleted ...')"
   ]
  },
  {
   "cell_type": "code",
   "execution_count": 5,
   "id": "thick-injection",
   "metadata": {},
   "outputs": [
    {
     "name": "stdin",
     "output_type": "stream",
     "text": [
      "Enter employee id :  2\n"
     ]
    },
    {
     "name": "stdout",
     "output_type": "stream",
     "text": [
      "Enter 1 to update empname : \n",
      "Enter 2 to update dep : \n",
      "Enter 3 to update salary : \n"
     ]
    },
    {
     "name": "stdin",
     "output_type": "stream",
     "text": [
      " 1\n",
      "Enter Employee Name Aman\n"
     ]
    },
    {
     "name": "stdout",
     "output_type": "stream",
     "text": [
      "update successfully...\n"
     ]
    }
   ],
   "source": [
    "# write python code to perform update command\n",
    "empid = int(input(\"Enter employee id : \"))\n",
    "print(\"Enter 1 to update empname : \")\n",
    "print(\"Enter 2 to update dep : \")\n",
    "print(\"Enter 3 to update salary : \")\n",
    "ch = int(input())\n",
    "if(ch == 1):\n",
    "    empname = input(\"Enter Employee Name\")\n",
    "    sql = \"update emp_info set empname='\"+empname+\"' where empid = '\"+str(empid)+\"'\"\n",
    "    cursor.execute(sql)\n",
    "    mydb.commit()\n",
    "    print('update successfully...')\n",
    "elif(ch==2):\n",
    "    department = input('Enter dep name : ')\n",
    "    sql = \"update emp_info set department='\"+department+\"' where empid = '\"+str(empid)+\"'\"\n",
    "    cursor.execute(sql)\n",
    "    mydb.commit()\n",
    "    print('update successfully...')\n",
    "elif(ch==3):\n",
    "    salary = input('Enter Salary name : ')\n",
    "    sql = \"update emp_info set salary='\"+salary+\"' where empid = '\"+str(empid)+\"'\"\n",
    "    cursor.execute(sql)\n",
    "    mydb.commit()\n",
    "    print('update successfully...')\n",
    "else:\n",
    "    print('Invalid choice ...')"
   ]
  },
  {
   "cell_type": "code",
   "execution_count": 9,
   "id": "pressing-router",
   "metadata": {},
   "outputs": [
    {
     "name": "stdout",
     "output_type": "stream",
     "text": [
      "(2, 'Aman', 'ME', 1000000000)\n",
      "(3, 'Modi', 'ME', 212121210)\n",
      "(4, 'Vidit', 'CSE', 4454545)\n"
     ]
    }
   ],
   "source": [
    "# Select Operation\n",
    "sql = \"select * from emp_info\"\n",
    "cursor.execute(sql)\n",
    "result = cursor.fetchall()\n",
    "for row in result:\n",
    "    print(row)"
   ]
  },
  {
   "cell_type": "code",
   "execution_count": null,
   "id": "victorian-publicity",
   "metadata": {},
   "outputs": [],
   "source": []
  }
 ],
 "metadata": {
  "kernelspec": {
   "display_name": "Python 3",
   "language": "python",
   "name": "python3"
  },
  "language_info": {
   "codemirror_mode": {
    "name": "ipython",
    "version": 3
   },
   "file_extension": ".py",
   "mimetype": "text/x-python",
   "name": "python",
   "nbconvert_exporter": "python",
   "pygments_lexer": "ipython3",
   "version": "3.6.9"
  }
 },
 "nbformat": 4,
 "nbformat_minor": 5
}
