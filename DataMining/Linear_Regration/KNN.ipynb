{
 "cells": [
  {
   "cell_type": "code",
   "execution_count": 1,
   "id": "younger-ethiopia",
   "metadata": {},
   "outputs": [],
   "source": [
    "# Import Essential Libraries \n",
    "import numpy as np\n",
    "import pandas as pd"
   ]
  },
  {
   "cell_type": "code",
   "execution_count": 2,
   "id": "first-trustee",
   "metadata": {},
   "outputs": [
    {
     "data": {
      "text/html": [
       "<div>\n",
       "<style scoped>\n",
       "    .dataframe tbody tr th:only-of-type {\n",
       "        vertical-align: middle;\n",
       "    }\n",
       "\n",
       "    .dataframe tbody tr th {\n",
       "        vertical-align: top;\n",
       "    }\n",
       "\n",
       "    .dataframe thead th {\n",
       "        text-align: right;\n",
       "    }\n",
       "</style>\n",
       "<table border=\"1\" class=\"dataframe\">\n",
       "  <thead>\n",
       "    <tr style=\"text-align: right;\">\n",
       "      <th></th>\n",
       "      <th>Name</th>\n",
       "      <th>Age</th>\n",
       "      <th>Gender</th>\n",
       "      <th>Sport</th>\n",
       "    </tr>\n",
       "  </thead>\n",
       "  <tbody>\n",
       "    <tr>\n",
       "      <th>0</th>\n",
       "      <td>Love</td>\n",
       "      <td>32</td>\n",
       "      <td>M</td>\n",
       "      <td>Football</td>\n",
       "    </tr>\n",
       "    <tr>\n",
       "      <th>1</th>\n",
       "      <td>Anirudh</td>\n",
       "      <td>40</td>\n",
       "      <td>M</td>\n",
       "      <td>Neither</td>\n",
       "    </tr>\n",
       "    <tr>\n",
       "      <th>2</th>\n",
       "      <td>Pooja</td>\n",
       "      <td>16</td>\n",
       "      <td>F</td>\n",
       "      <td>Cricket</td>\n",
       "    </tr>\n",
       "    <tr>\n",
       "      <th>3</th>\n",
       "      <td>Priya</td>\n",
       "      <td>34</td>\n",
       "      <td>F</td>\n",
       "      <td>Cricket</td>\n",
       "    </tr>\n",
       "    <tr>\n",
       "      <th>4</th>\n",
       "      <td>Akhilesh</td>\n",
       "      <td>55</td>\n",
       "      <td>M</td>\n",
       "      <td>Neither</td>\n",
       "    </tr>\n",
       "    <tr>\n",
       "      <th>5</th>\n",
       "      <td>Rahul</td>\n",
       "      <td>40</td>\n",
       "      <td>M</td>\n",
       "      <td>Cricket</td>\n",
       "    </tr>\n",
       "    <tr>\n",
       "      <th>6</th>\n",
       "      <td>Riya</td>\n",
       "      <td>20</td>\n",
       "      <td>F</td>\n",
       "      <td>Neither</td>\n",
       "    </tr>\n",
       "    <tr>\n",
       "      <th>7</th>\n",
       "      <td>Smith</td>\n",
       "      <td>15</td>\n",
       "      <td>M</td>\n",
       "      <td>Cricket</td>\n",
       "    </tr>\n",
       "    <tr>\n",
       "      <th>8</th>\n",
       "      <td>Laxmi</td>\n",
       "      <td>45</td>\n",
       "      <td>F</td>\n",
       "      <td>Football</td>\n",
       "    </tr>\n",
       "    <tr>\n",
       "      <th>9</th>\n",
       "      <td>John</td>\n",
       "      <td>15</td>\n",
       "      <td>M</td>\n",
       "      <td>Football</td>\n",
       "    </tr>\n",
       "  </tbody>\n",
       "</table>\n",
       "</div>"
      ],
      "text/plain": [
       "       Name  Age Gender     Sport\n",
       "0      Love   32      M  Football\n",
       "1   Anirudh   40      M   Neither\n",
       "2     Pooja   16      F   Cricket\n",
       "3     Priya   34      F   Cricket\n",
       "4  Akhilesh   55      M   Neither\n",
       "5     Rahul   40      M   Cricket\n",
       "6      Riya   20      F   Neither\n",
       "7     Smith   15      M   Cricket\n",
       "8     Laxmi   45      F  Football\n",
       "9      John   15      M  Football"
      ]
     },
     "execution_count": 2,
     "metadata": {},
     "output_type": "execute_result"
    }
   ],
   "source": [
    "# Import dataset 'sports.csv'\n",
    "dataset = pd.read_csv('sports.csv')\n",
    "dataset"
   ]
  },
  {
   "cell_type": "code",
   "execution_count": 3,
   "id": "otherwise-forward",
   "metadata": {},
   "outputs": [],
   "source": [
    "# seprate dataset into dependent and independent variables\n",
    "X = dataset.iloc[:,[1,2]].values\n",
    "y = dataset.iloc[:,3].values"
   ]
  },
  {
   "cell_type": "code",
   "execution_count": 4,
   "id": "disturbed-manor",
   "metadata": {},
   "outputs": [
    {
     "data": {
      "text/plain": [
       "array([[32, 'M'],\n",
       "       [40, 'M'],\n",
       "       [16, 'F'],\n",
       "       [34, 'F'],\n",
       "       [55, 'M'],\n",
       "       [40, 'M'],\n",
       "       [20, 'F'],\n",
       "       [15, 'M'],\n",
       "       [45, 'F'],\n",
       "       [15, 'M']], dtype=object)"
      ]
     },
     "execution_count": 4,
     "metadata": {},
     "output_type": "execute_result"
    }
   ],
   "source": [
    "X"
   ]
  },
  {
   "cell_type": "code",
   "execution_count": 5,
   "id": "prime-offering",
   "metadata": {},
   "outputs": [
    {
     "data": {
      "text/plain": [
       "array(['Football', 'Neither', 'Cricket', 'Cricket', 'Neither', 'Cricket',\n",
       "       'Neither', 'Cricket', 'Football', 'Football'], dtype=object)"
      ]
     },
     "execution_count": 5,
     "metadata": {},
     "output_type": "execute_result"
    }
   ],
   "source": [
    "y"
   ]
  },
  {
   "cell_type": "code",
   "execution_count": 6,
   "id": "advisory-seeking",
   "metadata": {},
   "outputs": [
    {
     "data": {
      "text/plain": [
       "array([[32, 1],\n",
       "       [40, 1],\n",
       "       [16, 0],\n",
       "       [34, 0],\n",
       "       [55, 1],\n",
       "       [40, 1],\n",
       "       [20, 0],\n",
       "       [15, 1],\n",
       "       [45, 0],\n",
       "       [15, 1]], dtype=object)"
      ]
     },
     "execution_count": 6,
     "metadata": {},
     "output_type": "execute_result"
    }
   ],
   "source": [
    "# for encoding the data # sklearn provide algorithm in python\n",
    "from sklearn.preprocessing import LabelEncoder\n",
    "labelEncoder_X = LabelEncoder()\n",
    "X[:,1] = labelEncoder_X.fit_transform(X[:,1])\n",
    "X"
   ]
  },
  {
   "cell_type": "code",
   "execution_count": 7,
   "id": "other-executive",
   "metadata": {},
   "outputs": [
    {
     "data": {
      "text/plain": [
       "KNeighborsClassifier(n_neighbors=3)"
      ]
     },
     "execution_count": 7,
     "metadata": {},
     "output_type": "execute_result"
    }
   ],
   "source": [
    "# Apply KNN algorithm\n",
    "from sklearn.neighbors import KNeighborsClassifier\n",
    "classifier = KNeighborsClassifier(n_neighbors=3)\n",
    "classifier.fit(X,y)"
   ]
  },
  {
   "cell_type": "code",
   "execution_count": 8,
   "id": "random-header",
   "metadata": {},
   "outputs": [
    {
     "data": {
      "text/plain": [
       "'Cricket'"
      ]
     },
     "execution_count": 8,
     "metadata": {},
     "output_type": "execute_result"
    }
   ],
   "source": [
    "# Test the model \n",
    "y_pred = classifier .predict([[5,0]])[0]\n",
    "y_pred"
   ]
  },
  {
   "cell_type": "code",
   "execution_count": null,
   "id": "extreme-mining",
   "metadata": {},
   "outputs": [],
   "source": []
  }
 ],
 "metadata": {
  "kernelspec": {
   "display_name": "Python 3",
   "language": "python",
   "name": "python3"
  },
  "language_info": {
   "codemirror_mode": {
    "name": "ipython",
    "version": 3
   },
   "file_extension": ".py",
   "mimetype": "text/x-python",
   "name": "python",
   "nbconvert_exporter": "python",
   "pygments_lexer": "ipython3",
   "version": "3.6.9"
  }
 },
 "nbformat": 4,
 "nbformat_minor": 5
}
